{
 "cells": [
  {
   "cell_type": "code",
   "execution_count": 2,
   "metadata": {},
   "outputs": [],
   "source": [
    "from pathlib import Path\n",
    "import pandas as pd\n",
    "import plotly.express as px\n",
    "import plotly.graph_objects as go"
   ]
  },
  {
   "cell_type": "code",
   "execution_count": 3,
   "metadata": {},
   "outputs": [],
   "source": [
    "sabana_df = pd.read_csv(list(Path(\"../\").glob(\"**/data/sabana.csv\"))[0],\n",
    "                        #parse_dates=True,\n",
    "                        infer_datetime_format=True,\n",
    "                        dtype={\n",
    "                            'mes': 'string',\n",
    "                            'dia': 'string',\n",
    "                            'ano': 'string',\n",
    "                            'id': 'string',\n",
    "                            'psoriasis moderada a severa': 'category',\n",
    "                            'riesgo asociado': 'category',\n",
    "                            'riesgo asociado - control': 'category',\n",
    "                            'riesgo asociado psoriasis leve': 'category',\n",
    "                            'riesgo asociado psoriasis leve': 'category',\n",
    "                            'frecuencia_cita': 'category',\n",
    "                            'resultado_total': 'category',\n",
    "                            'alta_por_nutricion': 'category',\n",
    "                            'alta_por_nutricionista': 'category',\n",
    "                            'desnutricion_imc_<_18_5': 'category',\n",
    "                            'diabetes_controlada': 'category',\n",
    "                            'dislipidema_colesterol_total_>200_tg_>150': 'category',\n",
    "                            'hba1c_>7': 'category',\n",
    "                            'hta_controlada': 'category',\n",
    "                            'hta_no_controlada': 'category',\n",
    "                            'obesidad_imc_>30_sin_medicamento_de_ajuste': 'category',\n",
    "                            'otro_motivo': 'category',\n",
    "                            'pacientes_con_sobrepeso_imc_25-29': 'category',\n",
    "                            'sin_medicamento_que_requiera_ajuste': 'category',\n",
    "                            'sindrome_metabolico': 'category',\n",
    "                            'tratamiento_con_medicamento_que_requiera_ajuste_por_peso_con_so': 'category',\n",
    "                            'depresion_mayor': 'category',\n",
    "                            'depresion_mayor_+_ansiedad': 'category',\n",
    "                            'trastorno_de_ansiedad_severa': 'category',\n",
    "                            'trastorno_severo_de_la_esfera_sexual': 'category',\n",
    "                            'depresion_moderada': 'category',\n",
    "                            'trastornos_de_adaptacion': 'category',\n",
    "                            'trastorno_leve-moderado_de_la_esfera_sexual': 'category',\n",
    "                            'depresion_leve': 'category',\n",
    "                            'alta_por_psicologia': 'category',\n",
    "                            'otro_motivo.1': 'category',\n",
    "                            'medicamento_acido_folico': 'category',\n",
    "                            'medicamento_acido_folico/mometasona': 'category',\n",
    "                            'medicamento_acido_retinoico': 'category',\n",
    "                            'medicamento_acido_salicilico/betametasona': 'category',\n",
    "                            'medicamento_acido_salicilico/mometasona': 'category',\n",
    "                            'medicamento_acitretin': 'category',\n",
    "                            'medicamento_adalimumab': 'category',\n",
    "                            'medicamento_alquitran_de_hulla': 'category',\n",
    "                            'medicamento_anticonceptivos': 'category',\n",
    "                            'medicamento_bemerin': 'category',\n",
    "                            'medicamento_betametasona': 'category',\n",
    "                            'medicamento_calcipotriol': 'category',\n",
    "                            'medicamento_calcipotriol+esteroide': 'category',\n",
    "                            'medicamento_cefalexina': 'category',\n",
    "                            'medicamento_certolizumab': 'category',\n",
    "                            'medicamento_cetirizina': 'category',\n",
    "                            'medicamento_ciclopirox': 'category',\n",
    "                            'medicamento_ciclosporina': 'category',\n",
    "                            'medicamento_clindamicina': 'category',\n",
    "                            'medicamento_clindamicina/rifampicina': 'category',\n",
    "                            'medicamento_clobetazol': 'category',\n",
    "                            'medicamento_clorfeniramina': 'category',\n",
    "                            'medicamento_clotrimazol': 'category',\n",
    "                            'medicamento_dapsona': 'category',\n",
    "                            'medicamento_deflazacort': 'category',\n",
    "                            'medicamento_dermacortine': 'category',\n",
    "                            'medicamento_dermovate': 'category',\n",
    "                            'medicamento_desonida': 'category',\n",
    "                            'medicamento_dicloxacilina': 'category',\n",
    "                            'medicamento_difenhidramina': 'category',\n",
    "                            'medicamento_diprosalic': 'category',\n",
    "                            'medicamento_doxiciclina': 'category',\n",
    "                            'medicamento_eritromicina': 'category',\n",
    "                            'medicamento_espironolactona': 'category',\n",
    "                            'medicamento_etanercept': 'category',\n",
    "                            'medicamento_etoricoxib': 'category',\n",
    "                            'medicamento_fototerapia_uv_a': 'category',\n",
    "                            'medicamento_fototerapia_uv_b': 'category',\n",
    "                            'medicamento_fototerapia_uva_1': 'category',\n",
    "                            'medicamento_golimumab': 'category',\n",
    "                            'medicamento_guselkumab': 'category',\n",
    "                            'medicamento_hidrocortizona': 'category',\n",
    "                            'medicamento_infiltraciones': 'category',\n",
    "                            'medicamento_infliximab': 'category',\n",
    "                            'medicamento_isoniazida': 'category',\n",
    "                            'medicamento_isotretinoina': 'category',\n",
    "                            'medicamento_ixekinumab': 'category',\n",
    "                            'medicamento_ketoconazol': 'category',\n",
    "                            'medicamento_leflunomida': 'category',\n",
    "                            'medicamento_metotrexate': 'category',\n",
    "                            'medicamento_mometasona': 'category',\n",
    "                            'medicamento_mupirocina': 'category',\n",
    "                            'medicamento_piridoxina': 'category',\n",
    "                            'medicamento_prednisolona': 'category',\n",
    "                            'medicamento_quimiofototerapia': 'category',\n",
    "                            'medicamento_rifampicina': 'category',\n",
    "                            'medicamento_secukinumab': 'category',\n",
    "                            'medicamento_ranitidina': 'category',\n",
    "                            'medicamento_soridem': 'category',\n",
    "                            'medicamento_sulfasalazina': 'category',\n",
    "                            'medicamento_tacrolimus': 'category',\n",
    "                            'medicamento_tazaroteno': 'category',\n",
    "                            'medicamento_tetraciclina_clorhidrato': 'category',\n",
    "                            'medicamento_tofacitinib': 'category',\n",
    "                            'medicamento_trimetoprim/sulfametoxazol': 'category',\n",
    "                            'medicamento_urea_granulada': 'category',\n",
    "                            'medicamento_ustekinumab': 'category',\n",
    "                            'medicamento_vancomicina': 'category',\n",
    "                            'artritis psoriasica -> diagnostico confirmado': 'category',\n",
    "                            'consumo de sustancias psicoactivas -> consumo activo': 'category',\n",
    "                            'depresion -> antecedente de depresion mayor': 'category',\n",
    "                            'depresion -> depresion leve a moderada': 'category',\n",
    "                            'diabetes -> diabetes controlada': 'category',\n",
    "                            'diabetes -> dificil control y/o compromiso de organo blanco': 'category',\n",
    "                            'dislipidemia -> (hipercolesterolemia y/o hipergliceridemia asoc': 'category',\n",
    "                            'dlqi -> > 10': 'category',\n",
    "                            'dlqi -> entre 6-10': 'category',\n",
    "                            'enfermedad cardiovascualar -> evento cardio cerebro vascular pr': 'category',\n",
    "                            'fototerapia -> tratamiento previo sin mejoria clinica': 'category',\n",
    "                            'hta -> hta controlada': 'category',\n",
    "                            'hta -> hta no controlada y/o compromiso de organo blanco': 'category',\n",
    "                            'imc -> 26-29': 'category',\n",
    "                            'imc -> > 30': 'category',\n",
    "                            'pasi -> > 15 sin tratamiento previo': 'category',\n",
    "                            'pasi -> entre 10-15': 'category',\n",
    "                            'sindrome metabolico -> presencia de sindrome metabolico complet': 'category',\n",
    "                            'terapia biologica -> medicamento que requiere ajuste de dosis p': 'category',\n",
    "                            'terapia biologica -> tratamiento activo': 'category',\n",
    "                            'terapia sistematica previa -> tratamiento previo con fallo tera': 'category',\n",
    "                            'terapia sistemica de primera linea -> tratamiento activo': 'category'\n",
    "                        })\n",
    "sabana_df=sabana_df.astype({\"fecha_consulta\":'datetime64',\"fecha_nacimiento\":'datetime64'})\n",
    "\n",
    "sabana_df['pasi_rt']= sabana_df[[\"pasi\", \"resultado_total\"]].max(axis=1)\n",
    "\n",
    "sabana_df['delta_date'] = sabana_df.groupby('id')['fecha_consulta'].diff(1)\n",
    "sabana_df['delta_date_int'] = sabana_df.delta_date.dt.days.fillna(0).astype(int)\n",
    "sabana_df['days_acum'] = sabana_df.groupby('id')['delta_date_int'].cumsum()\n",
    "sabana_df['weeks_acum'] = round(sabana_df['days_acum']/7,0).astype(int)"
   ]
  },
  {
   "cell_type": "code",
   "execution_count": null,
   "metadata": {},
   "outputs": [],
   "source": [
    "def plot_indicator (indicator, id_pat=[],time_axe='weeks'):\n",
    "    if len(id_pat)==0 and time_axe=='date':\n",
    "        df_indicator = sabana_df[['id','fecha_consulta','weeks_acum',#llave\n",
    "                                  'sexo_paciente','fecha_nacimiento','diagnostico_principal','imc', #variables generales\n",
    "                                  'pasi',indicator\n",
    "                                  ]].copy().groupby(['id','fecha_consulta']).last()\n",
    "        df_indicator.dropna(subset=[indicator],inplace=True)\n",
    "        df_indicator_ = df_indicator.reset_index()\n",
    "        \n",
    "        grouped = df_indicator_.groupby('id').count().sort_values(by=[indicator],ascending=False)\n",
    "        id_plot=grouped[indicator].loc[(grouped[indicator]>1)]\n",
    "        filtered_ids=id_plot.keys()\n",
    "        \n",
    "        fig = px.line(df_indicator_, x=\"fecha_consulta\", y=indicator, color='id')\n",
    "        fig.show()\n",
    "    \n",
    "    elif len(id_pat)!=0 and time_axe=='date':\n",
    "        sabana_df_ = sabana_df[sabana_df.id==id_pat].copy()\n",
    "        df_indicator = sabana_df_[['id','fecha_consulta','weeks_acum',#llave\n",
    "                                  'sexo_paciente','fecha_nacimiento','diagnostico_principal','imc', #variables generales\n",
    "                                  'pasi',indicator\n",
    "                                  ]].groupby(['id','fecha_consulta']).last()\n",
    "        df_indicator.dropna(subset=[indicator],inplace=True)\n",
    "        df_indicator_ = df_indicator.reset_index()\n",
    "        \n",
    "        grouped = df_indicator_.groupby('id').count().sort_values(by=[indicator],ascending=False)\n",
    "        id_plot=grouped[indicator].loc[(grouped[indicator]>1)]\n",
    "        filtered_ids=id_plot.keys()\n",
    "        \n",
    "        fig = px.line(df_indicator_, x=\"fecha_consulta\", y=indicator, color='id')\n",
    "        fig.show()\n",
    "    \n",
    "    elif len(id_pat)==0 and time_axe=='weeks':\n",
    "        sabana_df_ = sabana_df.copy()\n",
    "        df_indicator = sabana_df_[['id','fecha_consulta','weeks_acum',#llave\n",
    "                                  'sexo_paciente','fecha_nacimiento','diagnostico_principal','imc', #variables generales\n",
    "                                  'pasi',indicator\n",
    "                                  ]].groupby(['id','fecha_consulta']).last()\n",
    "        df_indicator.dropna(subset=[indicator],inplace=True)\n",
    "        df_indicator_ = df_indicator.reset_index()\n",
    "        \n",
    "        grouped = df_indicator_.groupby('id').count().sort_values(by=[indicator],ascending=False)\n",
    "        id_plot=grouped[indicator].loc[(grouped[indicator]>1)]\n",
    "        filtered_ids=id_plot.keys()\n",
    "        \n",
    "        #df_indicator_['delta_date'] = df_indicator_.groupby('id')['fecha_consulta'].diff(1)\n",
    "        #df_indicator_['delta_date_int'] = df_indicator_.delta_date.dt.days.fillna(0).astype(int)\n",
    "        #df_indicator_['days_acum'] = df_indicator_.groupby('id')['delta_date_int'].cumsum()\n",
    "        #df_indicator_['weeks_acum'] = round(df_indicator_['days_acum']/7,0).astype(int)\n",
    "        \n",
    "        fig = px.line(df_indicator_, x=\"weeks_acum\", y=indicator, color='id')\n",
    "        fig.show()\n",
    "    \n",
    "    elif len(id_pat)!=0 and time_axe=='weeks':\n",
    "        sabana_df_ = sabana_df[sabana_df.id==id_pat].copy()\n",
    "        df_indicator = sabana_df_[['id','fecha_consulta','weeks_acum',#llave\n",
    "                                  'sexo_paciente','fecha_nacimiento','diagnostico_principal','imc', #variables generales\n",
    "                                  'pasi',indicator\n",
    "                                  ]].groupby(['id','fecha_consulta']).last()\n",
    "        df_indicator.dropna(subset=[indicator],inplace=True)\n",
    "        df_indicator_ = df_indicator.reset_index()\n",
    "        \n",
    "        grouped = df_indicator_.groupby('id').count().sort_values(by=[indicator],ascending=False)\n",
    "        id_plot=grouped[indicator].loc[(grouped[indicator]>1)]\n",
    "        filtered_ids=id_plot.keys()\n",
    "        \n",
    "        #df_indicator_['delta_date'] = df_indicator_.groupby('id')['fecha_consulta'].diff(1)\n",
    "        #df_indicator_['delta_date_int'] = df_indicator_.delta_date.dt.days.fillna(0).astype(int)\n",
    "        #df_indicator_['days_acum'] = df_indicator_.groupby('id')['delta_date_int'].cumsum()\n",
    "        #df_indicator_['weeks_acum'] = round(df_indicator_['days_acum']/7,0).astype(int)\n",
    "        \n",
    "        fig = px.line(df_indicator_, x=\"weeks_acum\", y=indicator, color='id')\n",
    "        fig.show()\n",
    "    return"
   ]
  },
  {
   "cell_type": "code",
   "execution_count": 12,
   "metadata": {},
   "outputs": [],
   "source": [
    "def plot_indicator (indicator, id_pat=[],time_axe='weeks'):\n",
    "\n",
    "    df_indicator = sabana_df[['id','fecha_consulta','weeks_acum',#llave y semanas acumuladas\n",
    "                              'sexo_paciente','fecha_nacimiento','diagnostico_principal','imc', #variables generales\n",
    "                              indicator\n",
    "                             ]].copy().groupby(['id','fecha_consulta']).last()\n",
    "    df_indicator.dropna(subset=[indicator],inplace=True)\n",
    "    df_indicator_ = df_indicator.reset_index()\n",
    "    \n",
    "    if len(id_pat)==0 and time_axe=='date':\n",
    "        fig = px.line(df_indicator_, x=\"fecha_consulta\", y=indicator, color='id')\n",
    "        fig.update_layout(plot_bgcolor=\"whitesmoke\")\n",
    "        fig.show()\n",
    "    \n",
    "    elif len(id_pat)!=0 and time_axe=='date':\n",
    "        df_indicator_ = df_indicator_[df_indicator_.id==id_pat]\n",
    "        fig = go.Figure()\n",
    "        fig.add_trace(go.Scatter(x=df_indicator_['fecha_consulta'],\n",
    "                                 y=df_indicator_[indicator],\n",
    "                                 mode='lines+markers',name=id_pat,))\n",
    "        fig.update_layout(xaxis_title='date',\n",
    "                          yaxis_title=str(indicator),\n",
    "                          showlegend=True,\n",
    "                          plot_bgcolor=\"whitesmoke\")\n",
    "        fig.show()\n",
    "    \n",
    "    elif len(id_pat)==0 and time_axe=='weeks':\n",
    "        fig = px.line(df_indicator_, x=\"weeks_acum\", y=indicator, color='id')\n",
    "        fig.update_layout(plot_bgcolor=\"whitesmoke\")\n",
    "        fig.show()\n",
    "    \n",
    "    elif len(id_pat)!=0 and time_axe=='weeks':\n",
    "        df_indicator_ = df_indicator_[df_indicator_.id==id_pat]\n",
    "        fig = go.Figure()\n",
    "        fig.add_trace(go.Scatter(x=df_indicator_['weeks_acum'],\n",
    "                                 y=df_indicator_[indicator],\n",
    "                                 mode='lines+markers',name=id_pat,))\n",
    "        fig.update_layout(xaxis_title='weeks_acum',\n",
    "                          yaxis_title=str(indicator),\n",
    "                          showlegend=True,\n",
    "                          plot_bgcolor=\"whitesmoke\")\n",
    "        fig.show()\n",
    "    return"
   ]
  },
  {
   "cell_type": "code",
   "execution_count": null,
   "metadata": {},
   "outputs": [],
   "source": [
    "#Grafico PASI\n",
    "plot_indicator('pasi_rt')"
   ]
  },
  {
   "cell_type": "code",
   "execution_count": 13,
   "metadata": {},
   "outputs": [
    {
     "data": {
      "application/vnd.plotly.v1+json": {
       "config": {
        "plotlyServerURL": "https://plot.ly"
       },
       "data": [
        {
         "mode": "lines+markers",
         "name": "537530",
         "type": "scatter",
         "x": [
          0,
          28,
          41,
          75,
          99
         ],
         "y": [
          5,
          17.4,
          2.5,
          16,
          6.9
         ]
        }
       ],
       "layout": {
        "plot_bgcolor": "whitesmoke",
        "showlegend": true,
        "template": {
         "data": {
          "bar": [
           {
            "error_x": {
             "color": "#2a3f5f"
            },
            "error_y": {
             "color": "#2a3f5f"
            },
            "marker": {
             "line": {
              "color": "#E5ECF6",
              "width": 0.5
             }
            },
            "type": "bar"
           }
          ],
          "barpolar": [
           {
            "marker": {
             "line": {
              "color": "#E5ECF6",
              "width": 0.5
             }
            },
            "type": "barpolar"
           }
          ],
          "carpet": [
           {
            "aaxis": {
             "endlinecolor": "#2a3f5f",
             "gridcolor": "white",
             "linecolor": "white",
             "minorgridcolor": "white",
             "startlinecolor": "#2a3f5f"
            },
            "baxis": {
             "endlinecolor": "#2a3f5f",
             "gridcolor": "white",
             "linecolor": "white",
             "minorgridcolor": "white",
             "startlinecolor": "#2a3f5f"
            },
            "type": "carpet"
           }
          ],
          "choropleth": [
           {
            "colorbar": {
             "outlinewidth": 0,
             "ticks": ""
            },
            "type": "choropleth"
           }
          ],
          "contour": [
           {
            "colorbar": {
             "outlinewidth": 0,
             "ticks": ""
            },
            "colorscale": [
             [
              0,
              "#0d0887"
             ],
             [
              0.1111111111111111,
              "#46039f"
             ],
             [
              0.2222222222222222,
              "#7201a8"
             ],
             [
              0.3333333333333333,
              "#9c179e"
             ],
             [
              0.4444444444444444,
              "#bd3786"
             ],
             [
              0.5555555555555556,
              "#d8576b"
             ],
             [
              0.6666666666666666,
              "#ed7953"
             ],
             [
              0.7777777777777778,
              "#fb9f3a"
             ],
             [
              0.8888888888888888,
              "#fdca26"
             ],
             [
              1,
              "#f0f921"
             ]
            ],
            "type": "contour"
           }
          ],
          "contourcarpet": [
           {
            "colorbar": {
             "outlinewidth": 0,
             "ticks": ""
            },
            "type": "contourcarpet"
           }
          ],
          "heatmap": [
           {
            "colorbar": {
             "outlinewidth": 0,
             "ticks": ""
            },
            "colorscale": [
             [
              0,
              "#0d0887"
             ],
             [
              0.1111111111111111,
              "#46039f"
             ],
             [
              0.2222222222222222,
              "#7201a8"
             ],
             [
              0.3333333333333333,
              "#9c179e"
             ],
             [
              0.4444444444444444,
              "#bd3786"
             ],
             [
              0.5555555555555556,
              "#d8576b"
             ],
             [
              0.6666666666666666,
              "#ed7953"
             ],
             [
              0.7777777777777778,
              "#fb9f3a"
             ],
             [
              0.8888888888888888,
              "#fdca26"
             ],
             [
              1,
              "#f0f921"
             ]
            ],
            "type": "heatmap"
           }
          ],
          "heatmapgl": [
           {
            "colorbar": {
             "outlinewidth": 0,
             "ticks": ""
            },
            "colorscale": [
             [
              0,
              "#0d0887"
             ],
             [
              0.1111111111111111,
              "#46039f"
             ],
             [
              0.2222222222222222,
              "#7201a8"
             ],
             [
              0.3333333333333333,
              "#9c179e"
             ],
             [
              0.4444444444444444,
              "#bd3786"
             ],
             [
              0.5555555555555556,
              "#d8576b"
             ],
             [
              0.6666666666666666,
              "#ed7953"
             ],
             [
              0.7777777777777778,
              "#fb9f3a"
             ],
             [
              0.8888888888888888,
              "#fdca26"
             ],
             [
              1,
              "#f0f921"
             ]
            ],
            "type": "heatmapgl"
           }
          ],
          "histogram": [
           {
            "marker": {
             "colorbar": {
              "outlinewidth": 0,
              "ticks": ""
             }
            },
            "type": "histogram"
           }
          ],
          "histogram2d": [
           {
            "colorbar": {
             "outlinewidth": 0,
             "ticks": ""
            },
            "colorscale": [
             [
              0,
              "#0d0887"
             ],
             [
              0.1111111111111111,
              "#46039f"
             ],
             [
              0.2222222222222222,
              "#7201a8"
             ],
             [
              0.3333333333333333,
              "#9c179e"
             ],
             [
              0.4444444444444444,
              "#bd3786"
             ],
             [
              0.5555555555555556,
              "#d8576b"
             ],
             [
              0.6666666666666666,
              "#ed7953"
             ],
             [
              0.7777777777777778,
              "#fb9f3a"
             ],
             [
              0.8888888888888888,
              "#fdca26"
             ],
             [
              1,
              "#f0f921"
             ]
            ],
            "type": "histogram2d"
           }
          ],
          "histogram2dcontour": [
           {
            "colorbar": {
             "outlinewidth": 0,
             "ticks": ""
            },
            "colorscale": [
             [
              0,
              "#0d0887"
             ],
             [
              0.1111111111111111,
              "#46039f"
             ],
             [
              0.2222222222222222,
              "#7201a8"
             ],
             [
              0.3333333333333333,
              "#9c179e"
             ],
             [
              0.4444444444444444,
              "#bd3786"
             ],
             [
              0.5555555555555556,
              "#d8576b"
             ],
             [
              0.6666666666666666,
              "#ed7953"
             ],
             [
              0.7777777777777778,
              "#fb9f3a"
             ],
             [
              0.8888888888888888,
              "#fdca26"
             ],
             [
              1,
              "#f0f921"
             ]
            ],
            "type": "histogram2dcontour"
           }
          ],
          "mesh3d": [
           {
            "colorbar": {
             "outlinewidth": 0,
             "ticks": ""
            },
            "type": "mesh3d"
           }
          ],
          "parcoords": [
           {
            "line": {
             "colorbar": {
              "outlinewidth": 0,
              "ticks": ""
             }
            },
            "type": "parcoords"
           }
          ],
          "pie": [
           {
            "automargin": true,
            "type": "pie"
           }
          ],
          "scatter": [
           {
            "marker": {
             "colorbar": {
              "outlinewidth": 0,
              "ticks": ""
             }
            },
            "type": "scatter"
           }
          ],
          "scatter3d": [
           {
            "line": {
             "colorbar": {
              "outlinewidth": 0,
              "ticks": ""
             }
            },
            "marker": {
             "colorbar": {
              "outlinewidth": 0,
              "ticks": ""
             }
            },
            "type": "scatter3d"
           }
          ],
          "scattercarpet": [
           {
            "marker": {
             "colorbar": {
              "outlinewidth": 0,
              "ticks": ""
             }
            },
            "type": "scattercarpet"
           }
          ],
          "scattergeo": [
           {
            "marker": {
             "colorbar": {
              "outlinewidth": 0,
              "ticks": ""
             }
            },
            "type": "scattergeo"
           }
          ],
          "scattergl": [
           {
            "marker": {
             "colorbar": {
              "outlinewidth": 0,
              "ticks": ""
             }
            },
            "type": "scattergl"
           }
          ],
          "scattermapbox": [
           {
            "marker": {
             "colorbar": {
              "outlinewidth": 0,
              "ticks": ""
             }
            },
            "type": "scattermapbox"
           }
          ],
          "scatterpolar": [
           {
            "marker": {
             "colorbar": {
              "outlinewidth": 0,
              "ticks": ""
             }
            },
            "type": "scatterpolar"
           }
          ],
          "scatterpolargl": [
           {
            "marker": {
             "colorbar": {
              "outlinewidth": 0,
              "ticks": ""
             }
            },
            "type": "scatterpolargl"
           }
          ],
          "scatterternary": [
           {
            "marker": {
             "colorbar": {
              "outlinewidth": 0,
              "ticks": ""
             }
            },
            "type": "scatterternary"
           }
          ],
          "surface": [
           {
            "colorbar": {
             "outlinewidth": 0,
             "ticks": ""
            },
            "colorscale": [
             [
              0,
              "#0d0887"
             ],
             [
              0.1111111111111111,
              "#46039f"
             ],
             [
              0.2222222222222222,
              "#7201a8"
             ],
             [
              0.3333333333333333,
              "#9c179e"
             ],
             [
              0.4444444444444444,
              "#bd3786"
             ],
             [
              0.5555555555555556,
              "#d8576b"
             ],
             [
              0.6666666666666666,
              "#ed7953"
             ],
             [
              0.7777777777777778,
              "#fb9f3a"
             ],
             [
              0.8888888888888888,
              "#fdca26"
             ],
             [
              1,
              "#f0f921"
             ]
            ],
            "type": "surface"
           }
          ],
          "table": [
           {
            "cells": {
             "fill": {
              "color": "#EBF0F8"
             },
             "line": {
              "color": "white"
             }
            },
            "header": {
             "fill": {
              "color": "#C8D4E3"
             },
             "line": {
              "color": "white"
             }
            },
            "type": "table"
           }
          ]
         },
         "layout": {
          "annotationdefaults": {
           "arrowcolor": "#2a3f5f",
           "arrowhead": 0,
           "arrowwidth": 1
          },
          "coloraxis": {
           "colorbar": {
            "outlinewidth": 0,
            "ticks": ""
           }
          },
          "colorscale": {
           "diverging": [
            [
             0,
             "#8e0152"
            ],
            [
             0.1,
             "#c51b7d"
            ],
            [
             0.2,
             "#de77ae"
            ],
            [
             0.3,
             "#f1b6da"
            ],
            [
             0.4,
             "#fde0ef"
            ],
            [
             0.5,
             "#f7f7f7"
            ],
            [
             0.6,
             "#e6f5d0"
            ],
            [
             0.7,
             "#b8e186"
            ],
            [
             0.8,
             "#7fbc41"
            ],
            [
             0.9,
             "#4d9221"
            ],
            [
             1,
             "#276419"
            ]
           ],
           "sequential": [
            [
             0,
             "#0d0887"
            ],
            [
             0.1111111111111111,
             "#46039f"
            ],
            [
             0.2222222222222222,
             "#7201a8"
            ],
            [
             0.3333333333333333,
             "#9c179e"
            ],
            [
             0.4444444444444444,
             "#bd3786"
            ],
            [
             0.5555555555555556,
             "#d8576b"
            ],
            [
             0.6666666666666666,
             "#ed7953"
            ],
            [
             0.7777777777777778,
             "#fb9f3a"
            ],
            [
             0.8888888888888888,
             "#fdca26"
            ],
            [
             1,
             "#f0f921"
            ]
           ],
           "sequentialminus": [
            [
             0,
             "#0d0887"
            ],
            [
             0.1111111111111111,
             "#46039f"
            ],
            [
             0.2222222222222222,
             "#7201a8"
            ],
            [
             0.3333333333333333,
             "#9c179e"
            ],
            [
             0.4444444444444444,
             "#bd3786"
            ],
            [
             0.5555555555555556,
             "#d8576b"
            ],
            [
             0.6666666666666666,
             "#ed7953"
            ],
            [
             0.7777777777777778,
             "#fb9f3a"
            ],
            [
             0.8888888888888888,
             "#fdca26"
            ],
            [
             1,
             "#f0f921"
            ]
           ]
          },
          "colorway": [
           "#636efa",
           "#EF553B",
           "#00cc96",
           "#ab63fa",
           "#FFA15A",
           "#19d3f3",
           "#FF6692",
           "#B6E880",
           "#FF97FF",
           "#FECB52"
          ],
          "font": {
           "color": "#2a3f5f"
          },
          "geo": {
           "bgcolor": "white",
           "lakecolor": "white",
           "landcolor": "#E5ECF6",
           "showlakes": true,
           "showland": true,
           "subunitcolor": "white"
          },
          "hoverlabel": {
           "align": "left"
          },
          "hovermode": "closest",
          "mapbox": {
           "style": "light"
          },
          "paper_bgcolor": "white",
          "plot_bgcolor": "#E5ECF6",
          "polar": {
           "angularaxis": {
            "gridcolor": "white",
            "linecolor": "white",
            "ticks": ""
           },
           "bgcolor": "#E5ECF6",
           "radialaxis": {
            "gridcolor": "white",
            "linecolor": "white",
            "ticks": ""
           }
          },
          "scene": {
           "xaxis": {
            "backgroundcolor": "#E5ECF6",
            "gridcolor": "white",
            "gridwidth": 2,
            "linecolor": "white",
            "showbackground": true,
            "ticks": "",
            "zerolinecolor": "white"
           },
           "yaxis": {
            "backgroundcolor": "#E5ECF6",
            "gridcolor": "white",
            "gridwidth": 2,
            "linecolor": "white",
            "showbackground": true,
            "ticks": "",
            "zerolinecolor": "white"
           },
           "zaxis": {
            "backgroundcolor": "#E5ECF6",
            "gridcolor": "white",
            "gridwidth": 2,
            "linecolor": "white",
            "showbackground": true,
            "ticks": "",
            "zerolinecolor": "white"
           }
          },
          "shapedefaults": {
           "line": {
            "color": "#2a3f5f"
           }
          },
          "ternary": {
           "aaxis": {
            "gridcolor": "white",
            "linecolor": "white",
            "ticks": ""
           },
           "baxis": {
            "gridcolor": "white",
            "linecolor": "white",
            "ticks": ""
           },
           "bgcolor": "#E5ECF6",
           "caxis": {
            "gridcolor": "white",
            "linecolor": "white",
            "ticks": ""
           }
          },
          "title": {
           "x": 0.05
          },
          "xaxis": {
           "automargin": true,
           "gridcolor": "white",
           "linecolor": "white",
           "ticks": "",
           "title": {
            "standoff": 15
           },
           "zerolinecolor": "white",
           "zerolinewidth": 2
          },
          "yaxis": {
           "automargin": true,
           "gridcolor": "white",
           "linecolor": "white",
           "ticks": "",
           "title": {
            "standoff": 15
           },
           "zerolinecolor": "white",
           "zerolinewidth": 2
          }
         }
        },
        "xaxis": {
         "title": {
          "text": "weeks_acum"
         }
        },
        "yaxis": {
         "title": {
          "text": "pasi_rt"
         }
        }
       }
      },
      "text/html": [
       "<div>\n",
       "        \n",
       "        \n",
       "            <div id=\"d73f8d6a-5b4e-45da-9cd9-77a3070a9b44\" class=\"plotly-graph-div\" style=\"height:525px; width:100%;\"></div>\n",
       "            <script type=\"text/javascript\">\n",
       "                require([\"plotly\"], function(Plotly) {\n",
       "                    window.PLOTLYENV=window.PLOTLYENV || {};\n",
       "                    \n",
       "                if (document.getElementById(\"d73f8d6a-5b4e-45da-9cd9-77a3070a9b44\")) {\n",
       "                    Plotly.newPlot(\n",
       "                        'd73f8d6a-5b4e-45da-9cd9-77a3070a9b44',\n",
       "                        [{\"mode\": \"lines+markers\", \"name\": \"537530\", \"type\": \"scatter\", \"x\": [0, 28, 41, 75, 99], \"y\": [5.0, 17.4, 2.5, 16.0, 6.9]}],\n",
       "                        {\"plot_bgcolor\": \"whitesmoke\", \"showlegend\": true, \"template\": {\"data\": {\"bar\": [{\"error_x\": {\"color\": \"#2a3f5f\"}, \"error_y\": {\"color\": \"#2a3f5f\"}, \"marker\": {\"line\": {\"color\": \"#E5ECF6\", \"width\": 0.5}}, \"type\": \"bar\"}], \"barpolar\": [{\"marker\": {\"line\": {\"color\": \"#E5ECF6\", \"width\": 0.5}}, \"type\": \"barpolar\"}], \"carpet\": [{\"aaxis\": {\"endlinecolor\": \"#2a3f5f\", \"gridcolor\": \"white\", \"linecolor\": \"white\", \"minorgridcolor\": \"white\", \"startlinecolor\": \"#2a3f5f\"}, \"baxis\": {\"endlinecolor\": \"#2a3f5f\", \"gridcolor\": \"white\", \"linecolor\": \"white\", \"minorgridcolor\": \"white\", \"startlinecolor\": \"#2a3f5f\"}, \"type\": \"carpet\"}], \"choropleth\": [{\"colorbar\": {\"outlinewidth\": 0, \"ticks\": \"\"}, \"type\": \"choropleth\"}], \"contour\": [{\"colorbar\": {\"outlinewidth\": 0, \"ticks\": \"\"}, \"colorscale\": [[0.0, \"#0d0887\"], [0.1111111111111111, \"#46039f\"], [0.2222222222222222, \"#7201a8\"], [0.3333333333333333, \"#9c179e\"], [0.4444444444444444, \"#bd3786\"], [0.5555555555555556, \"#d8576b\"], [0.6666666666666666, \"#ed7953\"], [0.7777777777777778, \"#fb9f3a\"], [0.8888888888888888, \"#fdca26\"], [1.0, \"#f0f921\"]], \"type\": \"contour\"}], \"contourcarpet\": [{\"colorbar\": {\"outlinewidth\": 0, \"ticks\": \"\"}, \"type\": \"contourcarpet\"}], \"heatmap\": [{\"colorbar\": {\"outlinewidth\": 0, \"ticks\": \"\"}, \"colorscale\": [[0.0, \"#0d0887\"], [0.1111111111111111, \"#46039f\"], [0.2222222222222222, \"#7201a8\"], [0.3333333333333333, \"#9c179e\"], [0.4444444444444444, \"#bd3786\"], [0.5555555555555556, \"#d8576b\"], [0.6666666666666666, \"#ed7953\"], [0.7777777777777778, \"#fb9f3a\"], [0.8888888888888888, \"#fdca26\"], [1.0, \"#f0f921\"]], \"type\": \"heatmap\"}], \"heatmapgl\": [{\"colorbar\": {\"outlinewidth\": 0, \"ticks\": \"\"}, \"colorscale\": [[0.0, \"#0d0887\"], [0.1111111111111111, \"#46039f\"], [0.2222222222222222, \"#7201a8\"], [0.3333333333333333, \"#9c179e\"], [0.4444444444444444, \"#bd3786\"], [0.5555555555555556, \"#d8576b\"], [0.6666666666666666, \"#ed7953\"], [0.7777777777777778, \"#fb9f3a\"], [0.8888888888888888, \"#fdca26\"], [1.0, \"#f0f921\"]], \"type\": \"heatmapgl\"}], \"histogram\": [{\"marker\": {\"colorbar\": {\"outlinewidth\": 0, \"ticks\": \"\"}}, \"type\": \"histogram\"}], \"histogram2d\": [{\"colorbar\": {\"outlinewidth\": 0, \"ticks\": \"\"}, \"colorscale\": [[0.0, \"#0d0887\"], [0.1111111111111111, \"#46039f\"], [0.2222222222222222, \"#7201a8\"], [0.3333333333333333, \"#9c179e\"], [0.4444444444444444, \"#bd3786\"], [0.5555555555555556, \"#d8576b\"], [0.6666666666666666, \"#ed7953\"], [0.7777777777777778, \"#fb9f3a\"], [0.8888888888888888, \"#fdca26\"], [1.0, \"#f0f921\"]], \"type\": \"histogram2d\"}], \"histogram2dcontour\": [{\"colorbar\": {\"outlinewidth\": 0, \"ticks\": \"\"}, \"colorscale\": [[0.0, \"#0d0887\"], [0.1111111111111111, \"#46039f\"], [0.2222222222222222, \"#7201a8\"], [0.3333333333333333, \"#9c179e\"], [0.4444444444444444, \"#bd3786\"], [0.5555555555555556, \"#d8576b\"], [0.6666666666666666, \"#ed7953\"], [0.7777777777777778, \"#fb9f3a\"], [0.8888888888888888, \"#fdca26\"], [1.0, \"#f0f921\"]], \"type\": \"histogram2dcontour\"}], \"mesh3d\": [{\"colorbar\": {\"outlinewidth\": 0, \"ticks\": \"\"}, \"type\": \"mesh3d\"}], \"parcoords\": [{\"line\": {\"colorbar\": {\"outlinewidth\": 0, \"ticks\": \"\"}}, \"type\": \"parcoords\"}], \"pie\": [{\"automargin\": true, \"type\": \"pie\"}], \"scatter\": [{\"marker\": {\"colorbar\": {\"outlinewidth\": 0, \"ticks\": \"\"}}, \"type\": \"scatter\"}], \"scatter3d\": [{\"line\": {\"colorbar\": {\"outlinewidth\": 0, \"ticks\": \"\"}}, \"marker\": {\"colorbar\": {\"outlinewidth\": 0, \"ticks\": \"\"}}, \"type\": \"scatter3d\"}], \"scattercarpet\": [{\"marker\": {\"colorbar\": {\"outlinewidth\": 0, \"ticks\": \"\"}}, \"type\": \"scattercarpet\"}], \"scattergeo\": [{\"marker\": {\"colorbar\": {\"outlinewidth\": 0, \"ticks\": \"\"}}, \"type\": \"scattergeo\"}], \"scattergl\": [{\"marker\": {\"colorbar\": {\"outlinewidth\": 0, \"ticks\": \"\"}}, \"type\": \"scattergl\"}], \"scattermapbox\": [{\"marker\": {\"colorbar\": {\"outlinewidth\": 0, \"ticks\": \"\"}}, \"type\": \"scattermapbox\"}], \"scatterpolar\": [{\"marker\": {\"colorbar\": {\"outlinewidth\": 0, \"ticks\": \"\"}}, \"type\": \"scatterpolar\"}], \"scatterpolargl\": [{\"marker\": {\"colorbar\": {\"outlinewidth\": 0, \"ticks\": \"\"}}, \"type\": \"scatterpolargl\"}], \"scatterternary\": [{\"marker\": {\"colorbar\": {\"outlinewidth\": 0, \"ticks\": \"\"}}, \"type\": \"scatterternary\"}], \"surface\": [{\"colorbar\": {\"outlinewidth\": 0, \"ticks\": \"\"}, \"colorscale\": [[0.0, \"#0d0887\"], [0.1111111111111111, \"#46039f\"], [0.2222222222222222, \"#7201a8\"], [0.3333333333333333, \"#9c179e\"], [0.4444444444444444, \"#bd3786\"], [0.5555555555555556, \"#d8576b\"], [0.6666666666666666, \"#ed7953\"], [0.7777777777777778, \"#fb9f3a\"], [0.8888888888888888, \"#fdca26\"], [1.0, \"#f0f921\"]], \"type\": \"surface\"}], \"table\": [{\"cells\": {\"fill\": {\"color\": \"#EBF0F8\"}, \"line\": {\"color\": \"white\"}}, \"header\": {\"fill\": {\"color\": \"#C8D4E3\"}, \"line\": {\"color\": \"white\"}}, \"type\": \"table\"}]}, \"layout\": {\"annotationdefaults\": {\"arrowcolor\": \"#2a3f5f\", \"arrowhead\": 0, \"arrowwidth\": 1}, \"coloraxis\": {\"colorbar\": {\"outlinewidth\": 0, \"ticks\": \"\"}}, \"colorscale\": {\"diverging\": [[0, \"#8e0152\"], [0.1, \"#c51b7d\"], [0.2, \"#de77ae\"], [0.3, \"#f1b6da\"], [0.4, \"#fde0ef\"], [0.5, \"#f7f7f7\"], [0.6, \"#e6f5d0\"], [0.7, \"#b8e186\"], [0.8, \"#7fbc41\"], [0.9, \"#4d9221\"], [1, \"#276419\"]], \"sequential\": [[0.0, \"#0d0887\"], [0.1111111111111111, \"#46039f\"], [0.2222222222222222, \"#7201a8\"], [0.3333333333333333, \"#9c179e\"], [0.4444444444444444, \"#bd3786\"], [0.5555555555555556, \"#d8576b\"], [0.6666666666666666, \"#ed7953\"], [0.7777777777777778, \"#fb9f3a\"], [0.8888888888888888, \"#fdca26\"], [1.0, \"#f0f921\"]], \"sequentialminus\": [[0.0, \"#0d0887\"], [0.1111111111111111, \"#46039f\"], [0.2222222222222222, \"#7201a8\"], [0.3333333333333333, \"#9c179e\"], [0.4444444444444444, \"#bd3786\"], [0.5555555555555556, \"#d8576b\"], [0.6666666666666666, \"#ed7953\"], [0.7777777777777778, \"#fb9f3a\"], [0.8888888888888888, \"#fdca26\"], [1.0, \"#f0f921\"]]}, \"colorway\": [\"#636efa\", \"#EF553B\", \"#00cc96\", \"#ab63fa\", \"#FFA15A\", \"#19d3f3\", \"#FF6692\", \"#B6E880\", \"#FF97FF\", \"#FECB52\"], \"font\": {\"color\": \"#2a3f5f\"}, \"geo\": {\"bgcolor\": \"white\", \"lakecolor\": \"white\", \"landcolor\": \"#E5ECF6\", \"showlakes\": true, \"showland\": true, \"subunitcolor\": \"white\"}, \"hoverlabel\": {\"align\": \"left\"}, \"hovermode\": \"closest\", \"mapbox\": {\"style\": \"light\"}, \"paper_bgcolor\": \"white\", \"plot_bgcolor\": \"#E5ECF6\", \"polar\": {\"angularaxis\": {\"gridcolor\": \"white\", \"linecolor\": \"white\", \"ticks\": \"\"}, \"bgcolor\": \"#E5ECF6\", \"radialaxis\": {\"gridcolor\": \"white\", \"linecolor\": \"white\", \"ticks\": \"\"}}, \"scene\": {\"xaxis\": {\"backgroundcolor\": \"#E5ECF6\", \"gridcolor\": \"white\", \"gridwidth\": 2, \"linecolor\": \"white\", \"showbackground\": true, \"ticks\": \"\", \"zerolinecolor\": \"white\"}, \"yaxis\": {\"backgroundcolor\": \"#E5ECF6\", \"gridcolor\": \"white\", \"gridwidth\": 2, \"linecolor\": \"white\", \"showbackground\": true, \"ticks\": \"\", \"zerolinecolor\": \"white\"}, \"zaxis\": {\"backgroundcolor\": \"#E5ECF6\", \"gridcolor\": \"white\", \"gridwidth\": 2, \"linecolor\": \"white\", \"showbackground\": true, \"ticks\": \"\", \"zerolinecolor\": \"white\"}}, \"shapedefaults\": {\"line\": {\"color\": \"#2a3f5f\"}}, \"ternary\": {\"aaxis\": {\"gridcolor\": \"white\", \"linecolor\": \"white\", \"ticks\": \"\"}, \"baxis\": {\"gridcolor\": \"white\", \"linecolor\": \"white\", \"ticks\": \"\"}, \"bgcolor\": \"#E5ECF6\", \"caxis\": {\"gridcolor\": \"white\", \"linecolor\": \"white\", \"ticks\": \"\"}}, \"title\": {\"x\": 0.05}, \"xaxis\": {\"automargin\": true, \"gridcolor\": \"white\", \"linecolor\": \"white\", \"ticks\": \"\", \"title\": {\"standoff\": 15}, \"zerolinecolor\": \"white\", \"zerolinewidth\": 2}, \"yaxis\": {\"automargin\": true, \"gridcolor\": \"white\", \"linecolor\": \"white\", \"ticks\": \"\", \"title\": {\"standoff\": 15}, \"zerolinecolor\": \"white\", \"zerolinewidth\": 2}}}, \"xaxis\": {\"title\": {\"text\": \"weeks_acum\"}}, \"yaxis\": {\"title\": {\"text\": \"pasi_rt\"}}},\n",
       "                        {\"responsive\": true}\n",
       "                    ).then(function(){\n",
       "                            \n",
       "var gd = document.getElementById('d73f8d6a-5b4e-45da-9cd9-77a3070a9b44');\n",
       "var x = new MutationObserver(function (mutations, observer) {{\n",
       "        var display = window.getComputedStyle(gd).display;\n",
       "        if (!display || display === 'none') {{\n",
       "            console.log([gd, 'removed!']);\n",
       "            Plotly.purge(gd);\n",
       "            observer.disconnect();\n",
       "        }}\n",
       "}});\n",
       "\n",
       "// Listen for the removal of the full notebook cells\n",
       "var notebookContainer = gd.closest('#notebook-container');\n",
       "if (notebookContainer) {{\n",
       "    x.observe(notebookContainer, {childList: true});\n",
       "}}\n",
       "\n",
       "// Listen for the clearing of the current output cell\n",
       "var outputEl = gd.closest('.output');\n",
       "if (outputEl) {{\n",
       "    x.observe(outputEl, {childList: true});\n",
       "}}\n",
       "\n",
       "                        })\n",
       "                };\n",
       "                });\n",
       "            </script>\n",
       "        </div>"
      ]
     },
     "metadata": {},
     "output_type": "display_data"
    }
   ],
   "source": [
    "#Grafico PASI de un paciente\n",
    "plot_indicator('pasi_rt','537530','weeks')"
   ]
  },
  {
   "cell_type": "code",
   "execution_count": null,
   "metadata": {},
   "outputs": [],
   "source": [
    "#Grafico DLQI\n",
    "plot_indicator('dlqi')"
   ]
  },
  {
   "cell_type": "code",
   "execution_count": null,
   "metadata": {},
   "outputs": [],
   "source": [
    "#Grafico DLQI de un paciente\n",
    "plot_indicator('dlqi','1000486')"
   ]
  },
  {
   "cell_type": "markdown",
   "metadata": {},
   "source": [
    "aliceblue, antiquewhite, aqua, aquamarine, azure,\n",
    "            beige, bisque, black, blanchedalmond, blue,\n",
    "            blueviolet, brown, burlywood, cadetblue,\n",
    "            chartreuse, chocolate, coral, cornflowerblue,\n",
    "            cornsilk, crimson, cyan, darkblue, darkcyan,\n",
    "            darkgoldenrod, darkgray, darkgrey, darkgreen,\n",
    "            darkkhaki, darkmagenta, darkolivegreen, darkorange,\n",
    "            darkorchid, darkred, darksalmon, darkseagreen,\n",
    "            darkslateblue, darkslategray, darkslategrey,\n",
    "            darkturquoise, darkviolet, deeppink, deepskyblue,\n",
    "            dimgray, dimgrey, dodgerblue, firebrick,\n",
    "            floralwhite, forestgreen, fuchsia, gainsboro,\n",
    "            ghostwhite, gold, goldenrod, gray, grey, green,\n",
    "            greenyellow, honeydew, hotpink, indianred, indigo,\n",
    "            ivory, khaki, lavender, lavenderblush, lawngreen,\n",
    "            lemonchiffon, lightblue, lightcoral, lightcyan,\n",
    "            lightgoldenrodyellow, lightgray, lightgrey,\n",
    "            lightgreen, lightpink, lightsalmon, lightseagreen,\n",
    "            lightskyblue, lightslategray, lightslategrey,\n",
    "            lightsteelblue, lightyellow, lime, limegreen,\n",
    "            linen, magenta, maroon, mediumaquamarine,\n",
    "            mediumblue, mediumorchid, mediumpurple,\n",
    "            mediumseagreen, mediumslateblue, mediumspringgreen,\n",
    "            mediumturquoise, mediumvioletred, midnightblue,\n",
    "            mintcream, mistyrose, moccasin, navajowhite, navy,\n",
    "            oldlace, olive, olivedrab, orange, orangered,\n",
    "            orchid, palegoldenrod, palegreen, paleturquoise,\n",
    "            palevioletred, papayawhip, peachpuff, peru, pink,\n",
    "            plum, powderblue, purple, red, rosybrown,\n",
    "            royalblue, rebeccapurple, saddlebrown, salmon,\n",
    "            sandybrown, seagreen, seashell, sienna, silver,\n",
    "            skyblue, slateblue, slategray, slategrey, snow,\n",
    "            springgreen, steelblue, tan, teal, thistle, tomato,\n",
    "            turquoise, violet, wheat, white, whitesmoke,\n",
    "            yellow, yellowgreen"
   ]
  },
  {
   "cell_type": "markdown",
   "metadata": {},
   "source": [
    "------"
   ]
  },
  {
   "cell_type": "code",
   "execution_count": null,
   "metadata": {},
   "outputs": [],
   "source": [
    "#Extraccion de la base general de la porcion de datos relevante para el grafico del indicador a visualizar\n",
    "#base general: sabana_df\n",
    "#porcion grafico indicador: df_pasi\n",
    "\n",
    "df_pasi = sabana_df[['id','fecha_consulta',#llave\n",
    "                     'sexo_paciente','fecha_nacimiento','diagnostico_principal','imc', #variables generales\n",
    "                     'pasi', 'resultado_total',#indicador para el gráfico\n",
    "                     #complementos/detalles del indicador\n",
    "                     'area   brazos','area   cabeza','area   piernas','area   tronco',\n",
    "                     'descamacion (escalado)  brazos','descamacion (escalado)  cabeza','descamacion (escalado)  piernas',\n",
    "                     'descamacion (escalado)  tronco','eritema (enrojecimiento)  brazos','eritema (enrojecimiento)  cabeza',\n",
    "                     'eritema (enrojecimiento)  piernas','eritema (enrojecimiento)  tronco',\n",
    "                     'induracion (espesor)  brazos','induracion (espesor)  cabeza','induracion (espesor)  piernas',\n",
    "                     'induracion (espesor)  tronco'\n",
    "                     ]].copy().groupby(['id','fecha_consulta']).last() #si existen duplicados se toman los valores mas recientes\n",
    "\n",
    "'''\n",
    "dado que hay valores para la misma fecha que se encuentran en pasi o en resultado_total, o en ambos pero no son iguales\n",
    "se toma la decision de escoger el mayor de ellos\n",
    "'''\n",
    "df_pasi['pasi_rt']= df_pasi[[\"pasi\", \"resultado_total\"]].max(axis=1)\n",
    "#sabana_df['pasi_rt']= sabana_df[[\"pasi\", \"resultado_total\"]].max(axis=1)\n",
    "\n",
    "'''\n",
    "se eliminan los registros sin informacion para evitar los saltos en el grafico\n",
    "'''\n",
    "df_pasi.dropna(subset=['pasi_rt'],inplace=True)\n",
    "df_pasi_ = df_pasi.reset_index()\n",
    "\n",
    "'''\n",
    "se identifican las personas con informacion\n",
    "'''\n",
    "#grouped = df_pasi_.loc[(df_pasi_['pasi_rt']>0)].groupby('id').count().sort_values(by=['pasi_rt'],ascending=False)\n",
    "grouped = df_pasi_.groupby('id').count().sort_values(by=['pasi_rt'],ascending=False)\n",
    "id_plot=grouped['pasi_rt'].loc[(grouped['pasi_rt']>1)]\n",
    "filtered_ids=id_plot.keys()\n",
    "\n",
    "'''\n",
    "se genera gráfico de lineas\n",
    "'''\n",
    "#fig = px.line(df_pasi_[df_pasi_.id.isin(filtered_ids)], x=\"fecha_consulta\", y=\"pasi_rt\", color='id')\n",
    "fig = px.line(df_pasi_, x=\"fecha_consulta\", y=\"pasi_rt\", color='id')\n",
    "fig.show()"
   ]
  },
  {
   "cell_type": "code",
   "execution_count": null,
   "metadata": {},
   "outputs": [],
   "source": [
    "#Grafico PASI de un paciente\n",
    "sabana_df['pasi_rt']= sabana_df[[\"pasi\", \"resultado_total\"]].max(axis=1)\n",
    "plot_indicator('pasi_rt','1194688')"
   ]
  },
  {
   "cell_type": "code",
   "execution_count": null,
   "metadata": {},
   "outputs": [],
   "source": [
    "#sabana_df.iloc[:,0:9].describe(include='all')\n",
    "#sabana_df.iloc[:,9:18].describe(include='all')\n",
    "#sabana_df.iloc[:,18:27].describe(include='all')\n",
    "#sabana_df.iloc[:,27:36].describe(include='all')\n",
    "#sabana_df.iloc[:,36:45].describe(include='all')\n",
    "#sabana_df.iloc[:,45:54].describe(include='all')\n",
    "#sabana_df.iloc[:,54:63].describe(include='all')\n",
    "#sabana_df.iloc[:,63:72].describe(include='all')\n",
    "#sabana_df.iloc[:,72:81].describe(include='all')\n",
    "#sabana_df.iloc[:,81:90].describe(include='all')\n",
    "#sabana_df.iloc[:,90:99].describe(include='all')\n",
    "#sabana_df.iloc[:,99:109].describe(include='all')\n",
    "#sabana_df.iloc[:,109:118].describe(include='all')\n",
    "#sabana_df.iloc[:,118:127].describe(include='all')\n",
    "#sabana_df.iloc[:,127:136].describe(include='all')\n",
    "#sabana_df.iloc[:,136:145].describe(include='all')\n",
    "#sabana_df.iloc[:,145:154].describe(include='all')\n",
    "#sabana_df.iloc[:,154:163].describe(include='all')\n",
    "#sabana_df.iloc[:,163:172].describe(include='all')\n",
    "#sabana_df.iloc[:,172:181].describe(include='all')\n",
    "#sabana_df.iloc[:,181:190].describe(include='all')\n",
    "#sabana_df.iloc[:,190:199].describe(include='all')\n",
    "#sabana_df.iloc[:,199:209].describe(include='all')\n",
    "#sabana_df.iloc[:,209:218].describe(include='all')\n",
    "#sabana_df.iloc[:,218:227].describe(include='all')\n",
    "#sabana_df.iloc[:,227:236].describe(include='all')\n",
    "#sabana_df.iloc[:,236:245].describe(include='all')\n",
    "#sabana_df.iloc[:,245:254].describe(include='all')\n",
    "#sabana_df.iloc[:,254:263].describe(include='all')\n",
    "#sabana_df.iloc[:,263:272].describe(include='all')\n",
    "#sabana_df.iloc[:,272:281].describe(include='all')\n",
    "#sabana_df.iloc[:,281:290].describe(include='all')\n",
    "#sabana_df.iloc[:,290:299].describe(include='all')\n",
    "#sabana_df.iloc[:,299:309].describe(include='all')\n",
    "#sabana_df.iloc[:,309:].describe(include='all')"
   ]
  },
  {
   "cell_type": "code",
   "execution_count": null,
   "metadata": {},
   "outputs": [],
   "source": [
    "def plot_indicator (indicator, id_pat=[],time_axe='weeks'):\n",
    "    if len(id_pat)==0 and time_axe=='date':\n",
    "        df_indicator = sabana_df[['id','fecha_consulta',#llave\n",
    "                                  'sexo_paciente','fecha_nacimiento','diagnostico_principal','imc', #variables generales\n",
    "                                  'pasi',indicator\n",
    "                                  ]].copy().groupby(['id','fecha_consulta']).last()\n",
    "        df_indicator.dropna(subset=[indicator],inplace=True)\n",
    "        df_indicator_ = df_indicator.reset_index()\n",
    "        \n",
    "        grouped = df_indicator_.groupby('id').count().sort_values(by=[indicator],ascending=False)\n",
    "        id_plot=grouped[indicator].loc[(grouped[indicator]>1)]\n",
    "        filtered_ids=id_plot.keys()\n",
    "        \n",
    "        fig = go.Figure()\n",
    "        fig.add_trace(go.Scatter(x=df_indicator_[df_indicator_.id.isin(filtered_ids)]['fecha_consulta'],\n",
    "                                 y=df_indicator_[df_indicator_.id.isin(filtered_ids)][indicator],\n",
    "                                 mode='lines+markers',name='id'))\n",
    "        fig.show()\n",
    "    \n",
    "    elif len(id_pat)!=0 and time_axe=='date':\n",
    "        sabana_df_ = sabana_df[sabana_df.id==id_pat].copy()\n",
    "        df_indicator = sabana_df_[['id','fecha_consulta',#llave\n",
    "                                  'sexo_paciente','fecha_nacimiento','diagnostico_principal','imc', #variables generales\n",
    "                                  'pasi',indicator\n",
    "                                  ]].groupby(['id','fecha_consulta']).last()\n",
    "        df_indicator.dropna(subset=[indicator],inplace=True)\n",
    "        df_indicator_ = df_indicator.reset_index()\n",
    "        \n",
    "        grouped = df_indicator_.groupby('id').count().sort_values(by=[indicator],ascending=False)\n",
    "        id_plot=grouped[indicator].loc[(grouped[indicator]>1)]\n",
    "        filtered_ids=id_plot.keys()\n",
    "        \n",
    "        fig = go.Figure()\n",
    "        fig.add_trace(go.Scatter(x=df_indicator_[df_indicator_.id.isin(filtered_ids)]['fecha_consulta'],\n",
    "                                 y=df_indicator_[df_indicator_.id.isin(filtered_ids)][indicator],\n",
    "                                 mode='lines+markers',name='id'))\n",
    "        fig.show()\n",
    "    \n",
    "    elif len(id_pat)==0 and time_axe=='weeks':\n",
    "        sabana_df_ = sabana_df.copy()\n",
    "        df_indicator = sabana_df_[['id','fecha_consulta',#llave\n",
    "                                  'sexo_paciente','fecha_nacimiento','diagnostico_principal','imc', #variables generales\n",
    "                                  'pasi',indicator\n",
    "                                  ]].groupby(['id','fecha_consulta']).last()\n",
    "        df_indicator.dropna(subset=[indicator],inplace=True)\n",
    "        df_indicator_ = df_indicator.reset_index()\n",
    "        \n",
    "        grouped = df_indicator_.groupby('id').count().sort_values(by=[indicator],ascending=False)\n",
    "        id_plot=grouped[indicator].loc[(grouped[indicator]>1)]\n",
    "        filtered_ids=id_plot.keys()\n",
    "        \n",
    "        df_indicator_['delta_date'] = df_indicator_.groupby('id')['fecha_consulta'].diff(1)\n",
    "        df_indicator_['delta_date_int'] = df_indicator_.delta_date.dt.days.fillna(0).astype(int)\n",
    "        df_indicator_['days_acum'] = df_indicator_.groupby('id')['delta_date_int'].cumsum()\n",
    "        df_indicator_['weeks_acum'] = round(df_indicator_['days_acum']/7,0).astype(int)\n",
    "        \n",
    "        fig = go.Figure()\n",
    "        fig.add_trace(go.Scatter(x=df_indicator_[df_indicator_.id.isin(filtered_ids)]['weeks_acum'],\n",
    "                                 y=df_indicator_[df_indicator_.id.isin(filtered_ids)][indicator],\n",
    "                                 mode='lines+markers',name='id'))\n",
    "        fig.show()\n",
    "    \n",
    "    elif len(id_pat)!=0 and time_axe=='weeks':\n",
    "        sabana_df_ = sabana_df[sabana_df.id==id_pat].copy()\n",
    "        df_indicator = sabana_df_[['id','fecha_consulta',#llave\n",
    "                                  'sexo_paciente','fecha_nacimiento','diagnostico_principal','imc', #variables generales\n",
    "                                  'pasi',indicator\n",
    "                                  ]].groupby(['id','fecha_consulta']).last()\n",
    "        df_indicator.dropna(subset=[indicator],inplace=True)\n",
    "        df_indicator_ = df_indicator.reset_index()\n",
    "        \n",
    "        grouped = df_indicator_.groupby('id').count().sort_values(by=[indicator],ascending=False)\n",
    "        id_plot=grouped[indicator].loc[(grouped[indicator]>1)]\n",
    "        filtered_ids=id_plot.keys()\n",
    "        \n",
    "        df_indicator_['delta_date'] = df_indicator_.groupby('id')['fecha_consulta'].diff(1)\n",
    "        df_indicator_['delta_date_int'] = df_indicator_.delta_date.dt.days.fillna(0).astype(int)\n",
    "        df_indicator_['days_acum'] = df_indicator_.groupby('id')['delta_date_int'].cumsum()\n",
    "        df_indicator_['weeks_acum'] = round(df_indicator_['days_acum']/7,0).astype(int)\n",
    "        \n",
    "        fig = go.Figure()\n",
    "        fig.add_trace(go.Scatter(x=df_indicator_[df_indicator_.id.isin(filtered_ids)]['weeks_acum'],\n",
    "                                 y=df_indicator_[df_indicator_.id.isin(filtered_ids)][indicator],\n",
    "                                 mode='lines+markers',name='id'))\n",
    "        fig.show()\n",
    "    return"
   ]
  },
  {
   "cell_type": "code",
   "execution_count": null,
   "metadata": {},
   "outputs": [],
   "source": [
    "sabana_df.shape"
   ]
  },
  {
   "cell_type": "code",
   "execution_count": null,
   "metadata": {},
   "outputs": [],
   "source": [
    "sabana_df_tb = sabana_df.loc[(sabana_df['terapia biologica -> tratamiento activo']=='si')]\n",
    "sabana_df_tb"
   ]
  },
  {
   "cell_type": "code",
   "execution_count": null,
   "metadata": {},
   "outputs": [],
   "source": [
    "for column in sabana_df:\n",
    "    print(sabana_df[column].name)"
   ]
  },
  {
   "cell_type": "code",
   "execution_count": null,
   "metadata": {},
   "outputs": [],
   "source": [
    "pd.set_option(\"display.max_rows\", 50, \"display.max_columns\", None)\n",
    "sabana_df[['id','fecha_consulta','ano','mes','dia',\n",
    "          'pasi',\n",
    "          'total','eritema','endurecimiento','descamacion',\n",
    "          'resultado_total','area   brazos','area   cabeza','area   piernas','area   tronco',\n",
    "          'descamacion (escalado)  brazos','descamacion (escalado)  cabeza','descamacion (escalado)  piernas','descamacion (escalado)  tronco',\n",
    "          'eritema (enrojecimiento)  brazos','eritema (enrojecimiento)  cabeza','eritema (enrojecimiento)  piernas','eritema (enrojecimiento)  tronco',\n",
    "          'induracion (espesor)  brazos','induracion (espesor)  cabeza','induracion (espesor)  piernas','induracion (espesor)  tronco'\n",
    "         ]]#.groupby('id','ano','mes','dia').first()"
   ]
  },
  {
   "cell_type": "code",
   "execution_count": null,
   "metadata": {},
   "outputs": [],
   "source": [
    "df_pasi = sabana_df[['id','fecha_consulta',#'ano','mes','dia',\n",
    "#df_pasi = sabana_df_tb[['id','fecha_consulta',#'ano','mes','dia',\n",
    "          'pasi',\n",
    "          'resultado_total','area   brazos','area   cabeza','area   piernas','area   tronco',\n",
    "          'descamacion (escalado)  brazos','descamacion (escalado)  cabeza','descamacion (escalado)  piernas','descamacion (escalado)  tronco',\n",
    "          'eritema (enrojecimiento)  brazos','eritema (enrojecimiento)  cabeza','eritema (enrojecimiento)  piernas','eritema (enrojecimiento)  tronco',\n",
    "          'induracion (espesor)  brazos','induracion (espesor)  cabeza','induracion (espesor)  piernas','induracion (espesor)  tronco'\n",
    "         ]].copy().groupby(['id','fecha_consulta']).last()\n",
    "df_pasi"
   ]
  },
  {
   "cell_type": "code",
   "execution_count": null,
   "metadata": {},
   "outputs": [],
   "source": [
    "df_pasi['pasi_rt']= df_pasi[[\"pasi\", \"resultado_total\"]].max(axis=1)\n",
    "sabana_df['pasi_rt']= sabana_df[[\"pasi\", \"resultado_total\"]].max(axis=1)\n",
    "#sabana_df_tb['pasi_rt']= sabana_df_tb[[\"pasi\", \"resultado_total\"]].max(axis=1)\n",
    "df_pasi"
   ]
  },
  {
   "cell_type": "code",
   "execution_count": null,
   "metadata": {},
   "outputs": [],
   "source": [
    "df_pasi.dropna(subset=['pasi_rt'],inplace=True)"
   ]
  },
  {
   "cell_type": "code",
   "execution_count": null,
   "metadata": {},
   "outputs": [],
   "source": [
    "df_pasi"
   ]
  },
  {
   "cell_type": "code",
   "execution_count": null,
   "metadata": {},
   "outputs": [],
   "source": [
    "df_pasi_ = df_pasi.reset_index()\n",
    "grouped = df_pasi_.loc[(df_pasi_['pasi_rt']>0)].groupby('id').count().sort_values(by=['pasi_rt'],ascending=False)\n",
    "id_plot=grouped['pasi_rt'].loc[(grouped['pasi_rt']>1)]"
   ]
  },
  {
   "cell_type": "code",
   "execution_count": null,
   "metadata": {},
   "outputs": [],
   "source": [
    "filtered_ids=id_plot.keys()\n",
    "df_pasi_[df_pasi_.id.isin(filtered_ids)]"
   ]
  },
  {
   "cell_type": "code",
   "execution_count": null,
   "metadata": {},
   "outputs": [],
   "source": [
    "%time\n",
    "fig = px.line(df_pasi_[df_pasi_.id.isin(filtered_ids)], x=\"fecha_consulta\", y=\"pasi_rt\", color='id')\n",
    "#fig = px.line(df_pasi_.loc[(df_pasi_['id']=='853341')], x=\"fecha_consulta\", y=\"pasi_rt\", color='id')\n",
    "#fig = px.line(sabana_df.loc[(sabana_df['id']=='853341')], x=\"fecha_consulta\", y=\"pasi_rt\", color='id')\n",
    "fig.show()"
   ]
  },
  {
   "cell_type": "code",
   "execution_count": null,
   "metadata": {},
   "outputs": [],
   "source": [
    "df_pasi_.loc[(df_pasi_['id']=='949269')]"
   ]
  },
  {
   "cell_type": "code",
   "execution_count": null,
   "metadata": {},
   "outputs": [],
   "source": [
    "df_pasi_['delta_fecha'] = df_pasi_.groupby('id')['fecha_consulta'].diff(1)"
   ]
  },
  {
   "cell_type": "code",
   "execution_count": null,
   "metadata": {},
   "outputs": [],
   "source": [
    "df_pasi_['delta_fecha_int'] = df_pasi_.delta_fecha.dt.days.fillna(0).astype(int)"
   ]
  },
  {
   "cell_type": "code",
   "execution_count": null,
   "metadata": {},
   "outputs": [],
   "source": [
    "df_pasi_['dias_acum'] = df_pasi_.groupby('id')['delta_fecha_int'].cumsum()"
   ]
  },
  {
   "cell_type": "code",
   "execution_count": null,
   "metadata": {},
   "outputs": [],
   "source": [
    "df_pasi_['semanas_acum'] = round(df_pasi_['dias_acum']/7,0).astype(int)"
   ]
  },
  {
   "cell_type": "code",
   "execution_count": null,
   "metadata": {},
   "outputs": [],
   "source": [
    "df_pasi_.loc[(df_pasi_['id']=='949269')][['id','fecha_consulta','delta_fecha','delta_fecha_int','dias_acum','semanas_acum']]"
   ]
  },
  {
   "cell_type": "code",
   "execution_count": null,
   "metadata": {},
   "outputs": [],
   "source": [
    "%time\n",
    "#fig = px.line(df_pasi_[df_pasi_.id==filtered_ids[15]], x=\"semanas_acum\", y=\"pasi_rt\", color='id')\n",
    "fig = px.line(df_pasi_[df_pasi_.id==filtered_ids[filtered_ids.get_loc(key='949269')]], x=\"semanas_acum\", y=\"pasi_rt\", color='id')\n",
    "fig.show()"
   ]
  },
  {
   "cell_type": "code",
   "execution_count": null,
   "metadata": {},
   "outputs": [],
   "source": [
    "sabana_df.loc[(sabana_df['id']=='949269')]"
   ]
  },
  {
   "cell_type": "code",
   "execution_count": null,
   "metadata": {},
   "outputs": [],
   "source": [
    "df_dlqi = sabana_df[['id','fecha_consulta',#'ano','mes','dia',\n",
    "          'dlqi'\n",
    "         ]].copy().groupby(['id','fecha_consulta']).last()\n",
    "df_dlqi.dropna(subset=['dlqi'],inplace=True)\n",
    "#df_dlqi"
   ]
  },
  {
   "cell_type": "code",
   "execution_count": null,
   "metadata": {},
   "outputs": [],
   "source": [
    "df_dlqi_ = df_dlqi.reset_index()\n",
    "grouped2 = df_dlqi_.loc[(df_dlqi_['dlqi']>0)].groupby('id').count().sort_values(by=['dlqi'],ascending=False)\n",
    "id_plot2=grouped2['dlqi'].loc[(grouped2['dlqi']>1)]\n",
    "filtered_ids2=id_plot2.keys()\n",
    "#df_dlqi_[df_dlqi_.id.isin(filtered_ids2)]"
   ]
  },
  {
   "cell_type": "code",
   "execution_count": null,
   "metadata": {},
   "outputs": [],
   "source": [
    "filtered_ids2=['949269']\n",
    "fig = go.Figure()\n",
    "fig.add_trace(go.Scatter(x=df_dlqi_[df_dlqi_.id.isin(filtered_ids2)]['fecha_consulta'], \n",
    "                         y=df_dlqi_[df_dlqi_.id.isin(filtered_ids2)]['dlqi'],\n",
    "                         mode='lines+markers'))\n",
    "fig.show()"
   ]
  },
  {
   "cell_type": "code",
   "execution_count": null,
   "metadata": {},
   "outputs": [],
   "source": [
    "%time\n",
    "fig = px.line(df_dlqi_[df_dlqi_.id.isin(filtered_ids2)], x=\"fecha_consulta\", y=\"dlqi\", color='id')\n",
    "fig.show()"
   ]
  },
  {
   "cell_type": "code",
   "execution_count": null,
   "metadata": {},
   "outputs": [],
   "source": [
    "%time\n",
    "fig = px.line(df_dlqi_[df_dlqi_.id==filtered_ids2[0]], x=\"fecha_consulta\", y=\"dlqi\", color='id')\n",
    "fig.show()"
   ]
  },
  {
   "cell_type": "code",
   "execution_count": null,
   "metadata": {},
   "outputs": [],
   "source": [
    "df_pga = sabana_df[['id','fecha_consulta',#'ano','mes','dia',\n",
    "          'pga'\n",
    "         ]].copy().groupby(['id','fecha_consulta']).last()\n",
    "df_pga.dropna(subset=['pga'],inplace=True)\n",
    "#df_pga"
   ]
  },
  {
   "cell_type": "code",
   "execution_count": null,
   "metadata": {},
   "outputs": [],
   "source": [
    "df_pga_ = df_pga.reset_index()\n",
    "grouped3 = df_pga_.loc[(df_pga_['pga']>0)].groupby('id').count().sort_values(by=['pga'],ascending=False)\n",
    "id_plot3=grouped3['pga'].loc[(grouped3['pga']>1)]\n",
    "filtered_ids3=id_plot3.keys()\n",
    "#df_pga_[df_pga_.id.isin(filtered_ids3)]"
   ]
  },
  {
   "cell_type": "code",
   "execution_count": null,
   "metadata": {},
   "outputs": [],
   "source": [
    "%time\n",
    "fig = px.line(df_pga_[df_pga_.id.isin(filtered_ids3)], x=\"fecha_consulta\", y=\"pga\", color='id')\n",
    "fig.show()"
   ]
  },
  {
   "cell_type": "code",
   "execution_count": null,
   "metadata": {},
   "outputs": [],
   "source": [
    "%time\n",
    "fig = px.line(df_pga_[df_pga_.id==filtered_ids3[0]], x=\"fecha_consulta\", y=\"pga\", color='id')\n",
    "fig.show()"
   ]
  },
  {
   "cell_type": "code",
   "execution_count": null,
   "metadata": {},
   "outputs": [],
   "source": [
    "df_bsa = sabana_df[['id','fecha_consulta',#'ano','mes','dia',\n",
    "          'bsa'\n",
    "         ]].copy().groupby(['id','fecha_consulta']).last()\n",
    "df_bsa.dropna(subset=['bsa'],inplace=True)\n",
    "#df_bsa"
   ]
  },
  {
   "cell_type": "code",
   "execution_count": null,
   "metadata": {},
   "outputs": [],
   "source": [
    "df_bsa_ = df_bsa.reset_index()\n",
    "grouped4 = df_bsa_.loc[(df_bsa_['bsa']>0)].groupby('id').count().sort_values(by=['bsa'],ascending=False)\n",
    "id_plot4=grouped4['bsa'].loc[(grouped4['bsa']>1)]\n",
    "filtered_ids4=id_plot4.keys()\n",
    "#df_bsa_[df_bsa_.id.isin(filtered_ids4)]"
   ]
  },
  {
   "cell_type": "code",
   "execution_count": null,
   "metadata": {},
   "outputs": [],
   "source": [
    "%time\n",
    "fig = px.line(df_bsa_[df_bsa_.id.isin(filtered_ids4)], x=\"fecha_consulta\", y=\"bsa\", color='id')\n",
    "fig.show()"
   ]
  },
  {
   "cell_type": "code",
   "execution_count": null,
   "metadata": {},
   "outputs": [],
   "source": [
    "%time\n",
    "fig = px.line(df_bsa_[df_bsa_.id==filtered_ids4[0]], x=\"fecha_consulta\", y=\"bsa\", color='id')\n",
    "fig.show()"
   ]
  },
  {
   "cell_type": "code",
   "execution_count": null,
   "metadata": {},
   "outputs": [],
   "source": [
    "df_cvrs = sabana_df[['id','fecha_consulta',#'ano','mes','dia',\n",
    "          'calidad de vida relacionada en salud'\n",
    "         ]].copy().groupby(['id','fecha_consulta']).last()\n",
    "df_cvrs.dropna(subset=['calidad de vida relacionada en salud'],inplace=True)\n",
    "#df_cvrs"
   ]
  },
  {
   "cell_type": "code",
   "execution_count": null,
   "metadata": {},
   "outputs": [],
   "source": [
    "df_cvrs_ = df_cvrs.reset_index()\n",
    "grouped5 = df_cvrs_.loc[(df_cvrs_['calidad de vida relacionada en salud']>0)].groupby('id').count().sort_values(by=['calidad de vida relacionada en salud'],ascending=False)\n",
    "id_plot5=grouped5['calidad de vida relacionada en salud'].loc[(grouped5['calidad de vida relacionada en salud']>1)]\n",
    "filtered_ids5=id_plot5.keys()\n",
    "#df_cvrs_[df_cvrs_.id.isin(filtered_ids5)]"
   ]
  },
  {
   "cell_type": "code",
   "execution_count": null,
   "metadata": {},
   "outputs": [],
   "source": [
    "%time\n",
    "fig = px.line(df_cvrs_[df_cvrs_.id.isin(filtered_ids5)], x=\"fecha_consulta\", y=\"calidad de vida relacionada en salud\", color='id')\n",
    "fig.show()"
   ]
  },
  {
   "cell_type": "code",
   "execution_count": null,
   "metadata": {},
   "outputs": [],
   "source": [
    "%time\n",
    "fig = px.line(df_cvrs_[df_cvrs_.id==filtered_ids5[0]], x=\"fecha_consulta\", y=\"calidad de vida relacionada en salud\", color='id')\n",
    "fig.show()"
   ]
  },
  {
   "cell_type": "code",
   "execution_count": null,
   "metadata": {},
   "outputs": [],
   "source": [
    "df_napsi = sabana_df[['id','fecha_consulta',#'ano','mes','dia',\n",
    "          'napsi'\n",
    "         ]].copy().groupby(['id','fecha_consulta']).last()\n",
    "df_napsi.dropna(subset=['napsi'],inplace=True)\n",
    "#df_napsi"
   ]
  },
  {
   "cell_type": "code",
   "execution_count": null,
   "metadata": {},
   "outputs": [],
   "source": [
    "df_napsi_ = df_napsi.reset_index()\n",
    "grouped6 = df_napsi_.loc[(df_napsi_['napsi']>0)].groupby('id').count().sort_values(by=['napsi'],ascending=False)\n",
    "id_plot6=grouped6['napsi'].loc[(grouped6['napsi']>1)]\n",
    "filtered_ids6=id_plot6.keys()\n",
    "#df_napsi_[df_napsi_.id.isin(filtered_ids6)]"
   ]
  },
  {
   "cell_type": "code",
   "execution_count": null,
   "metadata": {},
   "outputs": [],
   "source": [
    "%time\n",
    "fig = px.line(df_napsi_[df_napsi_.id.isin(filtered_ids6)], x=\"fecha_consulta\", y=\"napsi\", color='id')\n",
    "fig.show()"
   ]
  },
  {
   "cell_type": "code",
   "execution_count": null,
   "metadata": {},
   "outputs": [],
   "source": [
    "%time\n",
    "fig = px.line(df_napsi_[df_napsi_.id==filtered_ids6[0]], x=\"fecha_consulta\", y=\"napsi\", color='id')\n",
    "fig.show()"
   ]
  },
  {
   "cell_type": "code",
   "execution_count": null,
   "metadata": {},
   "outputs": [],
   "source": [
    "df_napsimm = sabana_df[['id','fecha_consulta',#'ano','mes','dia',\n",
    "          'napsi mm'\n",
    "         ]].copy().groupby(['id','fecha_consulta']).last()\n",
    "df_napsimm.dropna(subset=['napsi mm'],inplace=True)\n",
    "#df_napsimm"
   ]
  },
  {
   "cell_type": "code",
   "execution_count": null,
   "metadata": {},
   "outputs": [],
   "source": [
    "df_napsimm_ = df_napsimm.reset_index()\n",
    "grouped7 = df_napsimm_.loc[(df_napsimm_['napsi mm']>0)].groupby('id').count().sort_values(by=['napsi mm'],ascending=False)\n",
    "id_plot7=grouped7['napsi mm'].loc[(grouped7['napsi mm']>1)]\n",
    "filtered_ids7=id_plot7.keys()\n",
    "#df_napsimm_[df_napsimm_.id.isin(filtered_ids7)]"
   ]
  },
  {
   "cell_type": "code",
   "execution_count": null,
   "metadata": {},
   "outputs": [],
   "source": [
    "%time\n",
    "fig = px.line(df_napsimm_[df_napsimm_.id.isin(filtered_ids7)], x=\"fecha_consulta\", y=\"napsi mm\", color='id')\n",
    "fig.show()"
   ]
  },
  {
   "cell_type": "code",
   "execution_count": null,
   "metadata": {},
   "outputs": [],
   "source": [
    "%time\n",
    "fig = px.line(df_napsimm_[df_napsimm_.id==filtered_ids7[0]], x=\"fecha_consulta\", y=\"napsi mm\", color='id')\n",
    "fig.show()"
   ]
  },
  {
   "cell_type": "code",
   "execution_count": 1,
   "metadata": {},
   "outputs": [
    {
     "output_type": "execute_result",
     "data": {
      "text/plain": "'C:\\\\ProgramData\\\\Anaconda3\\\\python.exe'"
     },
     "metadata": {},
     "execution_count": 1
    }
   ],
   "source": [
    "import sys\n",
    "sys.executable"
   ]
  },
  {
   "cell_type": "code",
   "execution_count": null,
   "metadata": {},
   "outputs": [],
   "source": []
  }
 ],
 "metadata": {
  "kernelspec": {
   "display_name": "Python 3",
   "language": "python",
   "name": "python3"
  },
  "language_info": {
   "codemirror_mode": {
    "name": "ipython",
    "version": 3
   },
   "file_extension": ".py",
   "mimetype": "text/x-python",
   "name": "python",
   "nbconvert_exporter": "python",
   "pygments_lexer": "ipython3",
   "version": "3.7.6-final"
  }
 },
 "nbformat": 4,
 "nbformat_minor": 4
}